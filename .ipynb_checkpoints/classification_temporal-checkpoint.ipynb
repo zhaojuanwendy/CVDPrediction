{
 "cells": [
  {
   "cell_type": "code",
   "execution_count": 2,
   "metadata": {},
   "outputs": [
    {
     "name": "stderr",
     "output_type": "stream",
     "text": [
      "/Users/juan/anaconda/lib/python3.6/site-packages/sklearn/ensemble/weight_boosting.py:29: DeprecationWarning: numpy.core.umath_tests is an internal NumPy module and should not be imported. It will be removed in a future NumPy release.\n",
      "  from numpy.core.umath_tests import inner1d\n"
     ]
    }
   ],
   "source": [
    "import pandas as pd\n",
    "import seaborn as sns\n",
    "import numpy as np\n",
    "import matplotlib.pyplot as plt\n",
    "%matplotlib inline\n",
    "from os import path\n",
    "import src.lib.utility_classfier as uclf"
   ]
  },
  {
   "cell_type": "code",
   "execution_count": 8,
   "metadata": {},
   "outputs": [],
   "source": [
    "data_path='data/temporal/'"
   ]
  },
  {
   "cell_type": "code",
   "execution_count": 10,
   "metadata": {},
   "outputs": [
    {
     "data": {
      "text/plain": [
       "(109490, 533)"
      ]
     },
     "execution_count": 10,
     "metadata": {},
     "output_type": "execute_result"
    }
   ],
   "source": [
    "df = pd.read_csv(path.join(data_path,'data.csv'))\n",
    "df.shape"
   ]
  },
  {
   "cell_type": "code",
   "execution_count": 11,
   "metadata": {},
   "outputs": [
    {
     "data": {
      "text/html": [
       "<div>\n",
       "<style scoped>\n",
       "    .dataframe tbody tr th:only-of-type {\n",
       "        vertical-align: middle;\n",
       "    }\n",
       "\n",
       "    .dataframe tbody tr th {\n",
       "        vertical-align: top;\n",
       "    }\n",
       "\n",
       "    .dataframe thead th {\n",
       "        text-align: right;\n",
       "    }\n",
       "</style>\n",
       "<table border=\"1\" class=\"dataframe\">\n",
       "  <thead>\n",
       "    <tr style=\"text-align: right;\">\n",
       "      <th></th>\n",
       "      <th>GRID</th>\n",
       "      <th>GENDER</th>\n",
       "      <th>Race_B</th>\n",
       "      <th>Race_W</th>\n",
       "      <th>AGE</th>\n",
       "      <th>DURATION_BF2007</th>\n",
       "      <th>Smoking</th>\n",
       "      <th>MAX_BMI_missing</th>\n",
       "      <th>MAX_VALUE_Chol_missing</th>\n",
       "      <th>MAX_VALUE_Creat_missing</th>\n",
       "      <th>...</th>\n",
       "      <th>CNT_MedCode_83367_2005</th>\n",
       "      <th>CNT_MedCode_83367_2006</th>\n",
       "      <th>CNT_MedCode_836_2000</th>\n",
       "      <th>CNT_MedCode_836_2001</th>\n",
       "      <th>CNT_MedCode_836_2002</th>\n",
       "      <th>CNT_MedCode_836_2003</th>\n",
       "      <th>CNT_MedCode_836_2004</th>\n",
       "      <th>CNT_MedCode_836_2005</th>\n",
       "      <th>CNT_MedCode_836_2006</th>\n",
       "      <th>Class</th>\n",
       "    </tr>\n",
       "  </thead>\n",
       "  <tbody>\n",
       "  </tbody>\n",
       "</table>\n",
       "<p>0 rows × 533 columns</p>\n",
       "</div>"
      ],
      "text/plain": [
       "Empty DataFrame\n",
       "Columns: [GRID, GENDER, Race_B, Race_W, AGE, DURATION_BF2007, Smoking, MAX_BMI_missing, MAX_VALUE_Chol_missing, MAX_VALUE_Creat_missing, MAX_VALUE_Gluc_missing, MAX_VALUE_HDL-C_missing, MAX_VALUE_LDL-C_missing, MAX_VALUE_Trigs_missing, MAX_DIASTOLIC_2000, MAX_DIASTOLIC_2001, MAX_DIASTOLIC_2002, MAX_DIASTOLIC_2003, MAX_DIASTOLIC_2004, MAX_DIASTOLIC_2005, MAX_DIASTOLIC_2006, MAX_SYSTOLIC_2000, MAX_SYSTOLIC_2001, MAX_SYSTOLIC_2002, MAX_SYSTOLIC_2003, MAX_SYSTOLIC_2004, MAX_SYSTOLIC_2005, MAX_SYSTOLIC_2006, MEDIAN_DIASTOLIC_2000, MEDIAN_DIASTOLIC_2001, MEDIAN_DIASTOLIC_2002, MEDIAN_DIASTOLIC_2003, MEDIAN_DIASTOLIC_2004, MEDIAN_DIASTOLIC_2005, MEDIAN_DIASTOLIC_2006, MEDIAN_SYSTOLIC_2000, MEDIAN_SYSTOLIC_2001, MEDIAN_SYSTOLIC_2002, MEDIAN_SYSTOLIC_2003, MEDIAN_SYSTOLIC_2004, MEDIAN_SYSTOLIC_2005, MEDIAN_SYSTOLIC_2006, MIN_DIASTOLIC_2000, MIN_DIASTOLIC_2001, MIN_DIASTOLIC_2002, MIN_DIASTOLIC_2003, MIN_DIASTOLIC_2004, MIN_DIASTOLIC_2005, MIN_DIASTOLIC_2006, MIN_SYSTOLIC_2000, MIN_SYSTOLIC_2001, MIN_SYSTOLIC_2002, MIN_SYSTOLIC_2003, MIN_SYSTOLIC_2004, MIN_SYSTOLIC_2005, MIN_SYSTOLIC_2006, STD_DIASTOLIC_2000, STD_DIASTOLIC_2001, STD_DIASTOLIC_2002, STD_DIASTOLIC_2003, STD_DIASTOLIC_2004, STD_DIASTOLIC_2005, STD_DIASTOLIC_2006, STD_SYSTOLIC_2000, STD_SYSTOLIC_2001, STD_SYSTOLIC_2002, STD_SYSTOLIC_2003, STD_SYSTOLIC_2004, STD_SYSTOLIC_2005, STD_SYSTOLIC_2006, MAX_BMI_2000, MAX_BMI_2001, MAX_BMI_2002, MAX_BMI_2003, MAX_BMI_2004, MAX_BMI_2005, MAX_BMI_2006, MEDIAN_BMI_2000, MEDIAN_BMI_2001, MEDIAN_BMI_2002, MEDIAN_BMI_2003, MEDIAN_BMI_2004, MEDIAN_BMI_2005, MEDIAN_BMI_2006, MIN_BMI_2000, MIN_BMI_2001, MIN_BMI_2002, MIN_BMI_2003, MIN_BMI_2004, MIN_BMI_2005, MIN_BMI_2006, STD_BMI_2000, STD_BMI_2001, STD_BMI_2002, STD_BMI_2003, STD_BMI_2004, STD_BMI_2005, STD_BMI_2006, MAX_VALUE_Chol_2000, MAX_VALUE_Chol_2001, ...]\n",
       "Index: []\n",
       "\n",
       "[0 rows x 533 columns]"
      ]
     },
     "execution_count": 11,
     "metadata": {},
     "output_type": "execute_result"
    }
   ],
   "source": [
    "df.head(0)"
   ]
  },
  {
   "cell_type": "code",
   "execution_count": 12,
   "metadata": {},
   "outputs": [],
   "source": [
    "def case_contro_ratio(df):\n",
    "    num_of_case = df[df['Class']==1].shape[0]\n",
    "    num_of_control = df[df['Class']==0].shape[0]\n",
    "    ratio = num_of_control/num_of_case\n",
    "    return ratio, num_of_case, num_of_control"
   ]
  },
  {
   "cell_type": "code",
   "execution_count": 13,
   "metadata": {},
   "outputs": [
    {
     "name": "stdout",
     "output_type": "stream",
     "text": [
      "Intersect ratio 10.15, case 9824, control 99666\n"
     ]
    }
   ],
   "source": [
    "print('Intersect ratio %.2f, case %d, control %d'% (case_contro_ratio(df)[0],case_contro_ratio(df)[1], case_contro_ratio(df)[2]))"
   ]
  },
  {
   "cell_type": "code",
   "execution_count": 14,
   "metadata": {},
   "outputs": [],
   "source": [
    "y=df.Class.values\n",
    "df.drop(['GRID','Class'], axis=1, inplace=True)"
   ]
  },
  {
   "cell_type": "code",
   "execution_count": 15,
   "metadata": {},
   "outputs": [],
   "source": [
    "feature_list=df.iloc[:,:(df.shape[1])].columns.tolist()"
   ]
  },
  {
   "cell_type": "code",
   "execution_count": 16,
   "metadata": {},
   "outputs": [],
   "source": [
    "X = df.iloc[:,:(df.shape[1])].values\n",
    "# X=np.load(path.join(data_path,'phemed_binary_value/X.npy'))"
   ]
  },
  {
   "cell_type": "code",
   "execution_count": 17,
   "metadata": {},
   "outputs": [
    {
     "data": {
      "text/plain": [
       "(109490, 531)"
      ]
     },
     "execution_count": 17,
     "metadata": {},
     "output_type": "execute_result"
    }
   ],
   "source": [
    "X.shape"
   ]
  },
  {
   "cell_type": "code",
   "execution_count": 19,
   "metadata": {},
   "outputs": [
    {
     "name": "stdout",
     "output_type": "stream",
     "text": [
      "X_train num 87592\n",
      "X_test num 21898\n"
     ]
    }
   ],
   "source": [
    "from sklearn.model_selection import train_test_split\n",
    "X_train, X_test, y_train, y_test = train_test_split(X, y, test_size=0.2, random_state=42)\n",
    "print('X_train num',X_train.shape[0])\n",
    "print('X_test num',X_test.shape[0])"
   ]
  },
  {
   "cell_type": "code",
   "execution_count": 20,
   "metadata": {},
   "outputs": [],
   "source": [
    "def case_contro_ratio(y):\n",
    "    num_of_case = y[y==1].shape[0]\n",
    "    num_of_control = y[y==0].shape[0]\n",
    "    ratio = num_of_control/num_of_case\n",
    "    return ratio, num_of_case, num_of_control"
   ]
  },
  {
   "cell_type": "code",
   "execution_count": 23,
   "metadata": {
    "collapsed": true
   },
   "outputs": [],
   "source": [
    "pos_ratio = case_contro_ratio(y_test)[1]/y_test.shape[0]"
   ]
  },
  {
   "cell_type": "code",
   "execution_count": 97,
   "metadata": {
    "scrolled": true
   },
   "outputs": [
    {
     "data": {
      "image/png": "[encoded data removed]",
      "text/plain": [
       "<matplotlib.figure.Figure at 0x11095bc50>"
      ]
     },
     "metadata": {},
     "output_type": "display_data"
    }
   ],
   "source": [
    "import xgboost as xgb\n",
    "\n",
    "param = {'max_depth':2, 'eta':1, 'silent':1, 'objective':'binary:logistic' }\n",
    "num_round = 100\n",
    "xgtrain = xgb.DMatrix(X_train, y_train)\n",
    "xgtest = xgb.DMatrix(X_test)\n",
    "\n",
    "bst = xgb.train(param, xgtrain, num_round)\n",
    "# make prediction\n",
    "preds = bst.predict(xgtest)\n",
    "uclf.compute_roc(y_test,preds,'xgboost')"
   ]
  },
  {
   "cell_type": "code",
   "execution_count": 98,
   "metadata": {},
   "outputs": [
    {
     "name": "stdout",
     "output_type": "stream",
     "text": [
      "Average precision-recall score: 0.26\n"
     ]
    },
    {
     "data": {
      "image/png": "[encoded data removed]",
      "text/plain": [
       "<matplotlib.figure.Figure at 0x1a1783a978>"
      ]
     },
     "metadata": {},
     "output_type": "display_data"
    }
   ],
   "source": [
    "uclf.plot_prc(y_test,preds,pos_ratio)"
   ]
  },
  {
   "cell_type": "code",
   "execution_count": 99,
   "metadata": {
    "collapsed": true
   },
   "outputs": [],
   "source": [
    "import sklearn.preprocessing\n",
    "from sklearn import preprocessing\n",
    "from sklearn.preprocessing import Normalizer\n",
    "# scalter = Normalizer()\n",
    "# scalter.fit(X_train)\n",
    "# X_train = scalter.transform(X_train)\n",
    "# X_test = scalter.transform(X_test)\n",
    "\n",
    "max_abs_scaler = preprocessing.MaxAbsScaler()\n",
    "X_train_scaled = max_abs_scaler.fit_transform(X_train)\n",
    "X_test_scaled = max_abs_scaler.transform(X_test)"
   ]
  },
  {
   "cell_type": "code",
   "execution_count": 100,
   "metadata": {},
   "outputs": [
    {
     "name": "stdout",
     "output_type": "stream",
     "text": [
      "0.344213970431\n",
      "0.346322623497\n",
      "Classification report\n",
      "             precision    recall  f1-score   support\n",
      "\n",
      "          0       0.91      0.99      0.95     19953\n",
      "          1       0.46      0.05      0.09      1945\n",
      "\n",
      "avg / total       0.87      0.91      0.88     21898\n",
      "\n",
      "Confusion_matrix\n",
      "[[19846   107]\n",
      " [ 1853    92]]\n",
      "done in 76.792132s\n",
      "(1, 531)\n",
      "1. feature CNT_MedCode_1191_2006 (0.280903)\n",
      "2. feature Smoking (0.238010)\n",
      "3. feature CNT_401_2006 (0.227743)\n",
      "4. feature CNT_272_2006 (0.198232)\n",
      "5. feature CNT_401_2005 (0.138477)\n",
      "6. feature CNT_MedCode_36567_2006 (0.132991)\n",
      "7. feature CNT_MedCode_6918_2006 (0.129317)\n",
      "8. feature CNT_MedCode_1191_2005 (0.127794)\n",
      "9. feature CNT_MedCode_5487_2006 (0.106598)\n",
      "10. feature CNT_MedCode_83367_2006 (0.104736)\n",
      "11. feature CNT_MedCode_4603_2006 (0.102884)\n",
      "12. feature CNT_250_2006 (0.095979)\n",
      "13. feature CNT_101_2006 (0.092664)\n",
      "14. feature CNT_MedCode_17767_2006 (0.090019)\n"
     ]
    }
   ],
   "source": [
    "# logic_regression\n",
    "class_num = 2\n",
    "# # scale the data, make each feature 0 mean and 1 variance\n",
    "from sklearn import preprocessing\n",
    "#X_train_scaled = preprocessing.scale(X_train)\n",
    "#X_test_scaled = preprocessing.scale(X_test)\n",
    "y_score = uclf.logic_regression(X_train, y_train,X_test, y_test,10,feature_list,14)"
   ]
  },
  {
   "cell_type": "code",
   "execution_count": 101,
   "metadata": {},
   "outputs": [
    {
     "data": {
      "image/png": "[encoded data removed]",
      "text/plain": [
       "<matplotlib.figure.Figure at 0x1a173424a8>"
      ]
     },
     "metadata": {},
     "output_type": "display_data"
    }
   ],
   "source": [
    "uclf.compute_roc(y_test,y_score,'logistics')"
   ]
  },
  {
   "cell_type": "code",
   "execution_count": 102,
   "metadata": {},
   "outputs": [
    {
     "name": "stdout",
     "output_type": "stream",
     "text": [
      "Average precision-recall score: 0.21\n"
     ]
    },
    {
     "data": {
      "image/png": "[encoded data removed]",
      "text/plain": [
       "<matplotlib.figure.Figure at 0x111d1f080>"
      ]
     },
     "metadata": {},
     "output_type": "display_data"
    }
   ],
   "source": [
    "uclf.plot_prc(y_test,y_score,pos_ratio)"
   ]
  },
  {
   "cell_type": "code",
   "execution_count": 103,
   "metadata": {},
   "outputs": [
    {
     "name": "stdout",
     "output_type": "stream",
     "text": [
      "0.427420363613\n",
      "0.413886426593\n",
      "Classification report\n",
      "             precision    recall  f1-score   support\n",
      "\n",
      "          0       0.94      0.86      0.90     19953\n",
      "          1       0.22      0.41      0.29      1945\n",
      "\n",
      "avg / total       0.87      0.82      0.84     21898\n",
      "\n",
      "Confusion_matrix\n",
      "[[17112  2841]\n",
      " [ 1143   802]]\n",
      "done in 11.692678s\n",
      "(1, 531)\n",
      "1. feature DURATION_BF2007 (7.097657)\n",
      "2. feature AGE (2.681777)\n",
      "3. feature STD_VALUE_Gluc_2000 (1.800124)\n",
      "4. feature STD_VALUE_Creat_2000 (1.491365)\n",
      "5. feature MAX_VALUE_HDL-C_2005 (1.119621)\n",
      "6. feature STD_VALUE_Gluc_2006 (1.100746)\n",
      "7. feature MEDIAN_VALUE_LDL-C_2006 (1.089664)\n",
      "8. feature MEDIAN_BMI_2006 (0.921594)\n",
      "9. feature MEDIAN_VALUE_Chol_2006 (0.898709)\n",
      "10. feature CNT_395_2006 (0.892159)\n",
      "11. feature MAX_VALUE_LDL-C_2006 (0.868365)\n",
      "12. feature STD_VALUE_Creat_2002 (0.861092)\n",
      "13. feature MAX_SYSTOLIC_2006 (0.838045)\n",
      "14. feature MEDIAN_VALUE_Creat_2006 (0.833242)\n"
     ]
    }
   ],
   "source": [
    "y_score = uclf.logic_regression(X_train_scaled, y_train,X_test_scaled, y_test,1,feature_list,14)"
   ]
  },
  {
   "cell_type": "code",
   "execution_count": 104,
   "metadata": {},
   "outputs": [
    {
     "data": {
      "image/png": "[encoded data removed]",
      "text/plain": [
       "<matplotlib.figure.Figure at 0x1a1795da20>"
      ]
     },
     "metadata": {},
     "output_type": "display_data"
    }
   ],
   "source": [
    "uclf.compute_roc(y_test,y_score,'logistics')"
   ]
  },
  {
   "cell_type": "code",
   "execution_count": 105,
   "metadata": {},
   "outputs": [
    {
     "name": "stdout",
     "output_type": "stream",
     "text": [
      "Average precision-recall score: 0.23\n"
     ]
    },
    {
     "data": {
      "image/png": "[encoded data removed]",
      "text/plain": [
       "<matplotlib.figure.Figure at 0x1a17342710>"
      ]
     },
     "metadata": {},
     "output_type": "display_data"
    }
   ],
   "source": [
    "uclf.plot_prc(y_test,y_score,pos_ratio)"
   ]
  },
  {
   "cell_type": "code",
   "execution_count": 106,
   "metadata": {},
   "outputs": [
    {
     "name": "stdout",
     "output_type": "stream",
     "text": [
      "Classification report\n",
      "             precision    recall  f1-score   support\n",
      "\n",
      "          0       0.91      1.00      0.95     19953\n",
      "          1       0.50      0.00      0.00      1945\n",
      "\n",
      "avg / total       0.87      0.91      0.87     21898\n",
      "\n",
      "Confusion_matrix\n",
      "[[19950     3]\n",
      " [ 1942     3]]\n",
      "done in 34.114467s\n",
      "1. feature DURATION_BF2007 (0.012844)\n",
      "2. feature AGE (0.011258)\n",
      "3. feature CNT_MedCode_1191_2006 (0.007600)\n",
      "4. feature MAX_SYSTOLIC_2006 (0.007017)\n",
      "5. feature MEDIAN_SYSTOLIC_2006 (0.006930)\n",
      "6. feature MIN_BMI_2005 (0.006667)\n",
      "7. feature MAX_BMI_2000 (0.006573)\n",
      "8. feature MIN_BMI_2003 (0.006509)\n",
      "9. feature MEDIAN_BMI_2001 (0.006474)\n",
      "10. feature MEDIAN_BMI_2005 (0.006470)\n",
      "11. feature MIN_BMI_2002 (0.006456)\n",
      "12. feature MEDIAN_BMI_2006 (0.006445)\n",
      "13. feature MAX_BMI_2003 (0.006403)\n",
      "14. feature MIN_BMI_2006 (0.006382)\n",
      "15. feature MEDIAN_BMI_2002 (0.006338)\n",
      "16. feature MAX_BMI_2006 (0.006322)\n",
      "17. feature MAX_BMI_2001 (0.006319)\n",
      "18. feature MIN_BMI_2000 (0.006313)\n",
      "19. feature MIN_BMI_2004 (0.006233)\n",
      "20. feature MAX_BMI_2005 (0.006208)\n"
     ]
    },
    {
     "data": {
      "image/png": "[encoded data removed]",
      "text/plain": [
       "<matplotlib.figure.Figure at 0x1a2edde1d0>"
      ]
     },
     "metadata": {},
     "output_type": "display_data"
    }
   ],
   "source": [
    "y_score = uclf.random_forest(X_train, y_train,X_test, y_test,feature_list)\n",
    "uclf.compute_roc(y_test,y_score,'random forest')"
   ]
  },
  {
   "cell_type": "code",
   "execution_count": 107,
   "metadata": {},
   "outputs": [
    {
     "name": "stdout",
     "output_type": "stream",
     "text": [
      "Average precision-recall score: 0.23\n"
     ]
    },
    {
     "data": {
      "image/png": "[encoded data removed]",
      "text/plain": [
       "<matplotlib.figure.Figure at 0x1a176fb160>"
      ]
     },
     "metadata": {},
     "output_type": "display_data"
    }
   ],
   "source": [
    "uclf.plot_prc(y_test,y_score,pos_ratio)"
   ]
  },
  {
   "cell_type": "code",
   "execution_count": 26,
   "metadata": {},
   "outputs": [
    {
     "name": "stdout",
     "output_type": "stream",
     "text": [
      "Classification report\n",
      "             precision    recall  f1-score   support\n",
      "\n",
      "          0       0.91      1.00      0.95     19953\n",
      "          1       0.44      0.04      0.07      1945\n",
      "\n",
      "avg / total       0.87      0.91      0.87     21898\n",
      "\n",
      "Confusion_matrix\n",
      "[[19854    99]\n",
      " [ 1867    78]]\n",
      "done in 340.768513s\n",
      "1. feature AGE (0.092386)\n",
      "2. feature DURATION_BF2007 (0.086464)\n",
      "3. feature Smoking (0.028325)\n",
      "4. feature CNT_395_2006 (0.025793)\n",
      "5. feature CNT_401_2006 (0.024074)\n",
      "6. feature CNT_MedCode_1191_2006 (0.023362)\n",
      "7. feature CNT_272_2006 (0.017799)\n",
      "8. feature CNT_MedCode_32968_2006 (0.016488)\n",
      "9. feature MAX_SYSTOLIC_2006 (0.015220)\n",
      "10. feature STD_VALUE_Gluc_2006 (0.015128)\n",
      "11. feature MIN_VALIE_Trigs_2003 (0.014397)\n",
      "12. feature CNT_MedCode_20352_2006 (0.014156)\n",
      "13. feature CNT_425_2006 (0.011264)\n",
      "14. feature CNT_MedCode_11289_2006 (0.011002)\n",
      "15. feature MIN_VALIE_LDL-C_2006 (0.010968)\n",
      "16. feature STD_VALUE_Creat_2006 (0.010803)\n",
      "17. feature CNT_MedCode_408081_2006 (0.010600)\n",
      "18. feature CNT_MedCode_35296_2006 (0.010305)\n",
      "19. feature CNT_MedCode_83367_2006 (0.010156)\n",
      "20. feature CNT_MedCode_4603_2006 (0.009984)\n"
     ]
    },
    {
     "data": {
      "image/png": "[encoded data removed]",
      "text/plain": [
       "<matplotlib.figure.Figure at 0x1a0e3162b0>"
      ]
     },
     "metadata": {},
     "output_type": "display_data"
    }
   ],
   "source": [
    "y_score = uclf.gradiant_boosting(X_train, y_train,X_test, y_test,feature_list,20)\n",
    "uclf.compute_roc(y_test,y_score,'gradiant boosting')"
   ]
  },
  {
   "cell_type": "code",
   "execution_count": 109,
   "metadata": {},
   "outputs": [
    {
     "name": "stdout",
     "output_type": "stream",
     "text": [
      "Average precision-recall score: 0.28\n"
     ]
    },
    {
     "data": {
      "image/png": "[encoded data removed]",
      "text/plain": [
       "<matplotlib.figure.Figure at 0x1a192200b8>"
      ]
     },
     "metadata": {},
     "output_type": "display_data"
    }
   ],
   "source": [
    "uclf.plot_prc(y_test,y_score,pos_ratio)"
   ]
  },
  {
   "cell_type": "markdown",
   "metadata": {},
   "source": [
    "## feature selection by L1 "
   ]
  },
  {
   "cell_type": "code",
   "execution_count": 110,
   "metadata": {},
   "outputs": [
    {
     "name": "stdout",
     "output_type": "stream",
     "text": [
      "(87592, 228)\n",
      "(21898, 228)\n"
     ]
    }
   ],
   "source": [
    "#feature selection by L1 \n",
    "from sklearn.svm import LinearSVC\n",
    "from sklearn.feature_selection import SelectFromModel\n",
    "lsvc = LinearSVC(C=0.01, penalty=\"l1\", dual=False).fit(X_train, y_train)\n",
    "model = SelectFromModel(lsvc, prefit=True)\n",
    "X_train_new = model.transform(X_train)\n",
    "print(X_train_new.shape)\n",
    "X_test_new = model.transform(X_test)\n",
    "print(X_test_new.shape)"
   ]
  },
  {
   "cell_type": "code",
   "execution_count": 111,
   "metadata": {},
   "outputs": [
    {
     "data": {
      "text/plain": [
       "array([[  0.00000000e+00,  -1.90954560e-01,  -1.95109297e-01,\n",
       "          4.92489829e-03,   2.14910630e-05,   6.61258455e-02,\n",
       "         -4.57329513e-02,   0.00000000e+00,   0.00000000e+00,\n",
       "          0.00000000e+00,   0.00000000e+00,  -2.71990185e-03,\n",
       "          0.00000000e+00,   0.00000000e+00,   0.00000000e+00,\n",
       "          0.00000000e+00,  -3.84334315e-04,   0.00000000e+00,\n",
       "         -2.84353750e-06,   2.89055471e-04,  -1.99481904e-04,\n",
       "         -1.07336625e-04,   2.19554255e-04,  -6.24914791e-05,\n",
       "          3.03315604e-04,  -9.44754427e-05,   7.09455120e-04,\n",
       "         -4.48524088e-05,  -6.00091447e-05,   5.19254563e-04,\n",
       "         -2.79612643e-04,  -1.99089702e-04,   0.00000000e+00,\n",
       "         -5.70283063e-04,  -1.22740683e-04,  -3.84285955e-05,\n",
       "          0.00000000e+00,   0.00000000e+00,   3.15070372e-04,\n",
       "         -6.01311919e-06,  -5.94697429e-06,  -4.19605108e-05,\n",
       "          0.00000000e+00,   2.91480844e-04,   0.00000000e+00,\n",
       "         -1.70771086e-07,   1.15536947e-04,  -2.08613854e-04,\n",
       "         -2.10085045e-04,  -5.98593064e-05,   3.81346783e-05,\n",
       "          4.28591335e-05,   2.17842146e-04,  -9.00902310e-05,\n",
       "         -3.44565886e-04,   0.00000000e+00,   0.00000000e+00,\n",
       "         -4.55638328e-03,  -1.73589943e-03,   0.00000000e+00,\n",
       "         -1.38149691e-03,  -1.34793946e-03,   0.00000000e+00,\n",
       "          0.00000000e+00,   0.00000000e+00,  -6.51872058e-04,\n",
       "         -5.64934177e-04,   7.30402671e-04,   1.94840321e-03,\n",
       "          3.46397492e-04,  -1.61072507e-05,   5.45739956e-03,\n",
       "          1.50111558e-03,   0.00000000e+00,   0.00000000e+00,\n",
       "          0.00000000e+00,   1.37822488e-04,   4.84896066e-04,\n",
       "         -1.65515029e-02,   9.37396530e-05,  -6.37118993e-04,\n",
       "         -6.63118759e-04,   1.96693373e-03,   9.69725308e-04,\n",
       "          3.62679927e-04,   7.27080918e-03,   0.00000000e+00,\n",
       "         -7.54193768e-04,   4.22100121e-04,   0.00000000e+00,\n",
       "          0.00000000e+00,   0.00000000e+00,  -9.88264494e-04,\n",
       "          0.00000000e+00,   1.91295080e-03,   0.00000000e+00,\n",
       "          0.00000000e+00,  -3.70175699e-04,  -2.47160742e-04,\n",
       "         -2.03504827e-04,  -1.20660226e-04,   1.25145817e-04,\n",
       "         -4.17220079e-04,  -2.08058430e-04,   0.00000000e+00,\n",
       "          0.00000000e+00,   0.00000000e+00,  -5.92879530e-03,\n",
       "          0.00000000e+00,   0.00000000e+00,   2.09424862e-02,\n",
       "          0.00000000e+00,  -3.26500772e-04,  -2.80843895e-04,\n",
       "         -4.20235697e-05,   1.44477789e-04,   3.55358585e-04,\n",
       "         -3.41322831e-04,  -3.99024480e-04,  -3.45629240e-04,\n",
       "         -2.84706027e-04,  -7.72686020e-04,  -1.27198652e-03,\n",
       "          5.01526352e-04,  -5.41079669e-04,  -3.55008203e-04,\n",
       "         -1.32982648e-04,  -4.50532259e-05,  -2.34661840e-04,\n",
       "         -1.79989643e-04,  -1.63285038e-04,   2.75537636e-06,\n",
       "         -1.80980593e-05,   8.22501193e-05,   2.82760345e-05,\n",
       "          3.16422201e-05,   3.02245769e-04,  -1.89466644e-04,\n",
       "         -3.59243832e-04,   8.66354020e-05,   8.18942607e-05,\n",
       "          8.49872270e-05,   1.99579530e-04,   5.01450726e-04,\n",
       "         -3.08491128e-05,   3.72416753e-04,   0.00000000e+00,\n",
       "          0.00000000e+00,   0.00000000e+00,   0.00000000e+00,\n",
       "          0.00000000e+00,   0.00000000e+00,   0.00000000e+00,\n",
       "         -1.20821265e-04,   8.35401171e-04,   2.18931701e-05,\n",
       "          3.31785257e-04,   1.43108939e-04,   1.67959007e-04,\n",
       "         -2.36404259e-04,   0.00000000e+00,   0.00000000e+00,\n",
       "          0.00000000e+00,  -1.71916206e-04,  -1.04942549e-03,\n",
       "          4.26551649e-04,  -5.08254405e-04,   0.00000000e+00,\n",
       "          3.85833005e-04,   2.46623180e-05,   2.15520779e-04,\n",
       "          7.24524226e-05,  -2.79246947e-04,   6.38790739e-04,\n",
       "         -2.85787755e-04,   3.38138882e-04,   1.96695588e-04,\n",
       "          5.01076012e-05,   0.00000000e+00,   6.09245473e-04,\n",
       "          4.67442520e-04,  -1.14988395e-04,   3.14738090e-05,\n",
       "          1.50798093e-05,   9.44968067e-05,   3.74966865e-04,\n",
       "         -1.36783259e-04,   1.26643109e-04,   0.00000000e+00,\n",
       "          0.00000000e+00,   0.00000000e+00,   0.00000000e+00,\n",
       "          0.00000000e+00,   0.00000000e+00,   0.00000000e+00,\n",
       "         -2.62146589e-04,   8.20050119e-05,  -5.02633181e-04,\n",
       "         -6.56646592e-05,   3.41002650e-05,  -3.44832528e-04,\n",
       "          2.54001577e-05,   4.57697816e-04,   2.68694808e-04,\n",
       "          1.71395674e-04,   4.06671776e-05,   0.00000000e+00,\n",
       "          1.21462034e-03,   0.00000000e+00,  -1.04794458e-04,\n",
       "          2.36911738e-04,  -1.52005511e-04,   3.77730649e-05,\n",
       "         -3.01558234e-05,  -9.00273771e-04,   3.32150470e-04,\n",
       "         -5.65070047e-04,   3.95562125e-04,   3.05335561e-05,\n",
       "         -8.50632505e-05,  -4.65676310e-04,  -5.51681679e-04,\n",
       "          1.40463517e-05,   2.50406645e-03,   0.00000000e+00,\n",
       "          8.81184717e-04,   8.24913610e-04,   6.39491931e-04,\n",
       "          0.00000000e+00,  -1.93881951e-04,   0.00000000e+00,\n",
       "          0.00000000e+00,   0.00000000e+00,   0.00000000e+00,\n",
       "          0.00000000e+00,   0.00000000e+00,   0.00000000e+00,\n",
       "          4.44950564e-03,   4.53784023e-04,   0.00000000e+00,\n",
       "          0.00000000e+00,   5.59836265e-04,   7.18828396e-05,\n",
       "          1.93822988e-03,   0.00000000e+00,   0.00000000e+00,\n",
       "          0.00000000e+00,  -6.40066284e-03,  -7.49063783e-03,\n",
       "          0.00000000e+00,   0.00000000e+00,  -6.68514944e-03,\n",
       "          2.43091115e-03,   0.00000000e+00,  -7.52048379e-04,\n",
       "          1.26650356e-03,   0.00000000e+00,   2.09824112e-03,\n",
       "          2.26252397e-03,   0.00000000e+00,  -4.99424676e-04,\n",
       "          2.12054519e-04,  -8.22949432e-04,   0.00000000e+00,\n",
       "          4.48621251e-04,   0.00000000e+00,   0.00000000e+00,\n",
       "          0.00000000e+00,   0.00000000e+00,   0.00000000e+00,\n",
       "          3.85947111e-02,   3.03566104e-02,   0.00000000e+00,\n",
       "          0.00000000e+00,   0.00000000e+00,   0.00000000e+00,\n",
       "          0.00000000e+00,   0.00000000e+00,   0.00000000e+00,\n",
       "          0.00000000e+00,   0.00000000e+00,   6.52112358e-03,\n",
       "          0.00000000e+00,   0.00000000e+00,   0.00000000e+00,\n",
       "          3.68881513e-02,   0.00000000e+00,   2.01302340e-03,\n",
       "          6.73049472e-04,   0.00000000e+00,   1.77829707e-02,\n",
       "          7.34712794e-04,   7.80855188e-02,   0.00000000e+00,\n",
       "          0.00000000e+00,   0.00000000e+00,   0.00000000e+00,\n",
       "          0.00000000e+00,   0.00000000e+00,   0.00000000e+00,\n",
       "          0.00000000e+00,   0.00000000e+00,   0.00000000e+00,\n",
       "          0.00000000e+00,   0.00000000e+00,   0.00000000e+00,\n",
       "          2.43216507e-01,   0.00000000e+00,   0.00000000e+00,\n",
       "          0.00000000e+00,   0.00000000e+00,   6.09871530e-03,\n",
       "          3.88725283e-02,   4.75789460e-02,   0.00000000e+00,\n",
       "          0.00000000e+00,   0.00000000e+00,   0.00000000e+00,\n",
       "          0.00000000e+00,   0.00000000e+00,   1.65929290e-01,\n",
       "          0.00000000e+00,   0.00000000e+00,   0.00000000e+00,\n",
       "          0.00000000e+00,   0.00000000e+00,   0.00000000e+00,\n",
       "          0.00000000e+00,   0.00000000e+00,   0.00000000e+00,\n",
       "          0.00000000e+00,   0.00000000e+00,   0.00000000e+00,\n",
       "          0.00000000e+00,   0.00000000e+00,   0.00000000e+00,\n",
       "          0.00000000e+00,   0.00000000e+00,  -2.62697689e-03,\n",
       "          0.00000000e+00,   0.00000000e+00,   0.00000000e+00,\n",
       "          0.00000000e+00,   0.00000000e+00,   0.00000000e+00,\n",
       "          0.00000000e+00,   0.00000000e+00,   0.00000000e+00,\n",
       "          2.29399212e-02,   0.00000000e+00,   0.00000000e+00,\n",
       "         -4.94431634e-03,   0.00000000e+00,   0.00000000e+00,\n",
       "          0.00000000e+00,   0.00000000e+00,   0.00000000e+00,\n",
       "          0.00000000e+00,   0.00000000e+00,   0.00000000e+00,\n",
       "          0.00000000e+00,   1.27536089e-02,   4.70588829e-02,\n",
       "          5.56456533e-03,   3.25838091e-02,   1.44455992e-02,\n",
       "          0.00000000e+00,   2.60717323e-02,   3.03267112e-02,\n",
       "          7.87656417e-02,   0.00000000e+00,   0.00000000e+00,\n",
       "          1.22478354e-02,   0.00000000e+00,   0.00000000e+00,\n",
       "          0.00000000e+00,   6.05712970e-02,   0.00000000e+00,\n",
       "          0.00000000e+00,   0.00000000e+00,   0.00000000e+00,\n",
       "          0.00000000e+00,   3.26497242e-02,   3.65746299e-02,\n",
       "          0.00000000e+00,   0.00000000e+00,   0.00000000e+00,\n",
       "          0.00000000e+00,   0.00000000e+00,   0.00000000e+00,\n",
       "          1.27888079e-01,   0.00000000e+00,   0.00000000e+00,\n",
       "          0.00000000e+00,   0.00000000e+00,   0.00000000e+00,\n",
       "          0.00000000e+00,   0.00000000e+00,   0.00000000e+00,\n",
       "          0.00000000e+00,   0.00000000e+00,   0.00000000e+00,\n",
       "          0.00000000e+00,   0.00000000e+00,   1.05144782e-02,\n",
       "          0.00000000e+00,   0.00000000e+00,   0.00000000e+00,\n",
       "          0.00000000e+00,   0.00000000e+00,   0.00000000e+00,\n",
       "          1.26197346e-01,   0.00000000e+00,   0.00000000e+00,\n",
       "          0.00000000e+00,   0.00000000e+00,   0.00000000e+00,\n",
       "          0.00000000e+00,   0.00000000e+00,   0.00000000e+00,\n",
       "          0.00000000e+00,   0.00000000e+00,   0.00000000e+00,\n",
       "          0.00000000e+00,   0.00000000e+00,   2.98732138e-03,\n",
       "          0.00000000e+00,   0.00000000e+00,   0.00000000e+00,\n",
       "          0.00000000e+00,   0.00000000e+00,   0.00000000e+00,\n",
       "          3.53479617e-02,   0.00000000e+00,   0.00000000e+00,\n",
       "          0.00000000e+00,   0.00000000e+00,   0.00000000e+00,\n",
       "          0.00000000e+00,   0.00000000e+00,   0.00000000e+00,\n",
       "          0.00000000e+00,   0.00000000e+00,   0.00000000e+00,\n",
       "          0.00000000e+00,   0.00000000e+00,   0.00000000e+00,\n",
       "          0.00000000e+00,   0.00000000e+00,   0.00000000e+00,\n",
       "          0.00000000e+00,   0.00000000e+00,   0.00000000e+00,\n",
       "          5.92935826e-02,   0.00000000e+00,   0.00000000e+00,\n",
       "          0.00000000e+00,   0.00000000e+00,   0.00000000e+00,\n",
       "          0.00000000e+00,   0.00000000e+00,   0.00000000e+00,\n",
       "          0.00000000e+00,   0.00000000e+00,   0.00000000e+00,\n",
       "          0.00000000e+00,   0.00000000e+00,   8.56248991e-02,\n",
       "          0.00000000e+00,   0.00000000e+00,   0.00000000e+00,\n",
       "          0.00000000e+00,   0.00000000e+00,   0.00000000e+00,\n",
       "          0.00000000e+00,   0.00000000e+00,   0.00000000e+00,\n",
       "          0.00000000e+00,   0.00000000e+00,   0.00000000e+00,\n",
       "          0.00000000e+00,   3.99319510e-02,   0.00000000e+00,\n",
       "          0.00000000e+00,   0.00000000e+00,   0.00000000e+00,\n",
       "          2.74803504e-02,   0.00000000e+00,   3.04032058e-02,\n",
       "          8.31966727e-03,   0.00000000e+00,   0.00000000e+00,\n",
       "          0.00000000e+00,   0.00000000e+00,   1.23268742e-02,\n",
       "          0.00000000e+00,   0.00000000e+00,   0.00000000e+00,\n",
       "          0.00000000e+00,   0.00000000e+00,   0.00000000e+00,\n",
       "          0.00000000e+00,   0.00000000e+00,   0.00000000e+00,\n",
       "          0.00000000e+00,   0.00000000e+00,   0.00000000e+00,\n",
       "          0.00000000e+00,   6.15306441e-03,   5.41777744e-02,\n",
       "          0.00000000e+00,   0.00000000e+00,   0.00000000e+00,\n",
       "          0.00000000e+00,   0.00000000e+00,   0.00000000e+00,\n",
       "          0.00000000e+00,   0.00000000e+00,   0.00000000e+00,\n",
       "          0.00000000e+00,   1.47600957e-02,   0.00000000e+00,\n",
       "          4.33797346e-03,   4.62104314e-02,   0.00000000e+00,\n",
       "          0.00000000e+00,   0.00000000e+00,   0.00000000e+00,\n",
       "          0.00000000e+00,   0.00000000e+00,   0.00000000e+00]])"
      ]
     },
     "execution_count": 111,
     "metadata": {},
     "output_type": "execute_result"
    }
   ],
   "source": [
    "lsvc.coef_"
   ]
  },
  {
   "cell_type": "markdown",
   "metadata": {},
   "source": [
    "## feature selection with Trees"
   ]
  },
  {
   "cell_type": "code",
   "execution_count": 112,
   "metadata": {},
   "outputs": [
    {
     "data": {
      "text/plain": [
       "array([  1.40079352e-03,   2.40565727e-03,   2.41200317e-03,\n",
       "         4.46547066e-03,   7.66163892e-03,   5.27093976e-03,\n",
       "         2.62782262e-03,   7.21860207e-04,   1.77125802e-03,\n",
       "         1.58478513e-03,   7.15805570e-04,   2.23100729e-03,\n",
       "         5.92399308e-04,   4.68142536e-03,   4.50962719e-03,\n",
       "         4.65445296e-03,   4.76118861e-03,   4.70989168e-03,\n",
       "         4.36499080e-03,   5.39278344e-03,   5.73573560e-03,\n",
       "         4.74940289e-03,   4.79445309e-03,   4.55376082e-03,\n",
       "         4.83257480e-03,   4.95934172e-03,   5.21208202e-03,\n",
       "         4.69030925e-03,   4.57006765e-03,   4.81159288e-03,\n",
       "         4.84610032e-03,   4.62548649e-03,   4.72409245e-03,\n",
       "         4.94998105e-03,   4.85525226e-03,   4.83709726e-03,\n",
       "         4.62865376e-03,   4.30975419e-03,   5.03400132e-03,\n",
       "         4.81392175e-03,   5.07723606e-03,   4.52444730e-03,\n",
       "         4.56470307e-03,   4.56098531e-03,   4.81536153e-03,\n",
       "         4.74330583e-03,   4.89986041e-03,   4.96165486e-03,\n",
       "         4.47317908e-03,   4.62129304e-03,   4.95130517e-03,\n",
       "         4.45510688e-03,   5.33138875e-03,   4.79507383e-03,\n",
       "         5.12661030e-03,   4.18037638e-05,   3.57003722e-04,\n",
       "         1.04918811e-03,   1.45042637e-03,   2.13249380e-03,\n",
       "         2.85773617e-03,   3.96005630e-03,   2.40381895e-05,\n",
       "         3.55695169e-04,   1.10147732e-03,   1.51767626e-03,\n",
       "         1.78422659e-03,   2.36039121e-03,   4.46434161e-03,\n",
       "         4.06062604e-03,   4.14844138e-03,   4.28147267e-03,\n",
       "         4.19891820e-03,   4.41519455e-03,   4.31692097e-03,\n",
       "         4.53581488e-03,   4.48005020e-03,   4.50228975e-03,\n",
       "         4.11890919e-03,   4.41381557e-03,   4.41780982e-03,\n",
       "         4.48279511e-03,   4.50108798e-03,   4.22667140e-03,\n",
       "         3.73085228e-03,   4.08424270e-03,   4.11896138e-03,\n",
       "         4.16644462e-03,   4.67730606e-03,   4.02147169e-03,\n",
       "         2.76949713e-03,   2.34739137e-03,   2.64174263e-03,\n",
       "         2.38606881e-03,   2.86751482e-03,   3.09230525e-03,\n",
       "         3.88277420e-03,   1.93305210e-03,   2.13614393e-03,\n",
       "         2.10511856e-03,   1.82056494e-03,   2.16480376e-03,\n",
       "         2.33875398e-03,   2.20997297e-03,   1.93413801e-03,\n",
       "         2.07550720e-03,   2.51062068e-03,   2.32263730e-03,\n",
       "         2.51193251e-03,   2.13521031e-03,   2.46238439e-03,\n",
       "         2.45702667e-03,   2.48644087e-03,   2.61869631e-03,\n",
       "         2.31256461e-03,   2.40575175e-03,   2.54868570e-03,\n",
       "         2.51771229e-03,   2.03727210e-03,   2.19078372e-03,\n",
       "         2.09675183e-03,   2.18174068e-03,   2.22278451e-03,\n",
       "         2.30699229e-03,   1.92760099e-03,   2.19867562e-03,\n",
       "         2.22795603e-03,   2.19464209e-03,   2.04314730e-03,\n",
       "         2.92057083e-03,   2.09706053e-03,   1.99933330e-03,\n",
       "         2.13181702e-03,   2.33991429e-03,   2.14223139e-03,\n",
       "         2.07542391e-03,   1.95041320e-03,   2.14433551e-03,\n",
       "         3.02423466e-03,   1.84358177e-03,   1.83838341e-03,\n",
       "         1.99291992e-03,   2.09080176e-03,   2.08122805e-03,\n",
       "         1.94421087e-03,   2.02413151e-03,   2.20823354e-03,\n",
       "         2.03011941e-03,   2.19436888e-03,   2.38664452e-03,\n",
       "         2.15659880e-03,   2.30064365e-03,   2.21147975e-03,\n",
       "         2.33474140e-03,   2.59395581e-03,   2.56879136e-03,\n",
       "         2.36526143e-03,   2.50408258e-03,   2.55182305e-03,\n",
       "         2.42099329e-03,   1.86345097e-03,   1.66017659e-03,\n",
       "         2.11834595e-03,   1.81453442e-03,   2.09933763e-03,\n",
       "         1.89285665e-03,   1.89359061e-03,   2.03369075e-03,\n",
       "         2.70330900e-03,   2.18870576e-03,   2.30884126e-03,\n",
       "         2.28496383e-03,   2.35441407e-03,   2.18741802e-03,\n",
       "         2.45063786e-03,   2.18195762e-03,   2.10310626e-03,\n",
       "         2.36687324e-03,   1.93903983e-03,   2.04637181e-03,\n",
       "         2.09168431e-03,   1.89427568e-03,   1.74840088e-03,\n",
       "         2.19003409e-03,   2.13312262e-03,   2.01289362e-03,\n",
       "         2.33029764e-03,   2.01977114e-03,   2.16009717e-03,\n",
       "         2.34536625e-03,   2.53583392e-03,   2.17872204e-03,\n",
       "         2.27639523e-03,   2.27872293e-03,   2.39744831e-03,\n",
       "         2.33990546e-03,   2.44635617e-03,   2.48831656e-03,\n",
       "         2.70531469e-03,   2.51745389e-03,   2.69572658e-03,\n",
       "         2.67447265e-03,   2.21995570e-03,   2.14825487e-03,\n",
       "         2.44374162e-03,   2.26364357e-03,   1.91922698e-03,\n",
       "         1.91560032e-03,   2.22750578e-03,   2.02781469e-03,\n",
       "         1.94002071e-03,   2.11095139e-03,   1.93921558e-03,\n",
       "         2.12813634e-03,   2.24818186e-03,   2.14215307e-03,\n",
       "         2.29581581e-03,   2.29649983e-03,   1.93704622e-03,\n",
       "         2.13927402e-03,   2.07667187e-03,   2.10957681e-03,\n",
       "         2.05027936e-03,   1.91089644e-03,   2.04108797e-03,\n",
       "         1.51449703e-03,   1.46433165e-03,   1.57259212e-03,\n",
       "         1.61094736e-03,   1.53662035e-03,   1.87295416e-03,\n",
       "         1.89970141e-03,   1.91866260e-03,   1.84321563e-03,\n",
       "         1.60716633e-03,   1.84305074e-03,   2.50358639e-03,\n",
       "         1.91196790e-03,   2.24263260e-03,   1.91604498e-03,\n",
       "         1.87205719e-03,   2.01643158e-03,   2.50605971e-03,\n",
       "         2.75300895e-03,   1.62080124e-03,   1.70078713e-03,\n",
       "         2.59007270e-03,   1.43177779e-03,   2.13109915e-03,\n",
       "         2.08580370e-03,   1.50167719e-03,   1.69049459e-03,\n",
       "         2.99017457e-03,   1.40867544e-03,   1.68949553e-03,\n",
       "         2.35517997e-03,   1.69557821e-03,   1.61144046e-03,\n",
       "         2.06849642e-03,   1.30180059e-03,   1.36372720e-03,\n",
       "         1.44422923e-03,   1.35313261e-03,   1.85964758e-03,\n",
       "         1.83290966e-03,   8.47423769e-04,   8.40391341e-04,\n",
       "         9.69184212e-04,   1.37320512e-03,   2.08727213e-03,\n",
       "         2.93306496e-03,   3.67980977e-03,   2.43803610e-04,\n",
       "         6.24823309e-04,   4.62899189e-04,   1.02797326e-03,\n",
       "         7.64356488e-04,   7.50447728e-04,   1.19875113e-03,\n",
       "         5.21166870e-04,   6.05449204e-04,   7.59995580e-04,\n",
       "         1.06392071e-03,   1.18957508e-03,   1.44457722e-03,\n",
       "         2.88876421e-03,   8.12888081e-04,   1.06221326e-03,\n",
       "         1.03982339e-03,   1.40891488e-03,   2.44742667e-03,\n",
       "         3.99507677e-03,   8.38348439e-03,   3.41209160e-05,\n",
       "         6.73208453e-05,   1.44903049e-04,   1.95380609e-04,\n",
       "         1.67658361e-04,   1.07051522e-04,   3.53921684e-04,\n",
       "         2.48103695e-04,   4.19597546e-04,   3.25534149e-04,\n",
       "         4.42403187e-04,   6.83034201e-04,   1.04649986e-03,\n",
       "         3.45814151e-03,   5.33119308e-04,   1.02701131e-03,\n",
       "         1.04229140e-03,   1.72104277e-03,   3.71469974e-03,\n",
       "         3.31183724e-03,   7.53990743e-03,   6.37765045e-05,\n",
       "         1.59882275e-04,   1.25059789e-04,   3.01798651e-04,\n",
       "         3.07834159e-04,   7.84176303e-04,   1.52627666e-03,\n",
       "         1.40154544e-04,   1.94614764e-04,   1.62272504e-04,\n",
       "         2.36272527e-04,   3.62868843e-04,   5.70596491e-04,\n",
       "         1.15089857e-03,   4.86125021e-05,   1.04161092e-04,\n",
       "         3.41708188e-04,   2.26622333e-04,   4.65418226e-04,\n",
       "         7.82824788e-04,   1.04123003e-03,   1.86923818e-04,\n",
       "         5.50521283e-04,   7.49952951e-04,   9.03329115e-04,\n",
       "         1.72177373e-03,   1.89342803e-03,   2.52260283e-03,\n",
       "         3.08028218e-04,   3.75828132e-04,   4.56316817e-04,\n",
       "         8.20073425e-04,   9.87267799e-04,   1.29749502e-03,\n",
       "         1.70037007e-03,   2.60665771e-04,   2.64047153e-04,\n",
       "         4.08197715e-04,   5.45468565e-04,   5.92117715e-04,\n",
       "         7.39263535e-04,   5.93023786e-04,   3.90635299e-04,\n",
       "         3.47487011e-04,   6.22981618e-04,   6.30447483e-04,\n",
       "         1.02972646e-03,   1.64020970e-03,   2.53872143e-03,\n",
       "         1.13795588e-03,   1.88818225e-03,   2.02659496e-03,\n",
       "         3.18724910e-03,   2.76374126e-03,   5.55577390e-03,\n",
       "         7.00950075e-03,   5.65488832e-04,   6.94108697e-04,\n",
       "         1.02878806e-03,   1.07224916e-03,   1.03132397e-03,\n",
       "         1.46866349e-03,   2.20220094e-03,   4.66574225e-04,\n",
       "         5.93278296e-04,   6.84432323e-04,   9.56931253e-04,\n",
       "         1.05826392e-03,   1.76724530e-03,   2.87045543e-03,\n",
       "         1.17981859e-04,   7.00110008e-05,   1.35570312e-04,\n",
       "         1.15554998e-04,   3.27390539e-04,   6.98301486e-04,\n",
       "         1.70189915e-03,   5.39453898e-04,   5.02094850e-04,\n",
       "         7.25493585e-04,   6.41041890e-04,   1.19249261e-03,\n",
       "         1.51894580e-03,   3.34995573e-03,   1.67254068e-04,\n",
       "         3.45127707e-04,   4.25531969e-04,   3.29337029e-04,\n",
       "         5.76816187e-04,   5.76126861e-04,   1.33492756e-03,\n",
       "         1.00830513e-04,   2.01183050e-04,   2.35748005e-04,\n",
       "         5.33643779e-04,   6.74387436e-04,   7.67656825e-04,\n",
       "         2.12199691e-03,   2.71006918e-04,   2.62827921e-04,\n",
       "         2.57689501e-04,   3.88214829e-04,   4.54819797e-04,\n",
       "         6.48459734e-04,   8.12284106e-04,   3.98431162e-04,\n",
       "         4.03351026e-04,   4.66534864e-04,   3.76662739e-04,\n",
       "         9.40287822e-04,   9.81421358e-04,   1.33366587e-03,\n",
       "         8.44476143e-05,   3.97847166e-04,   3.02162253e-04,\n",
       "         6.42578101e-04,   7.70920829e-04,   8.23912453e-04,\n",
       "         1.47849270e-03,   3.90647529e-04,   3.32437427e-04,\n",
       "         4.95556101e-04,   4.58419199e-04,   6.28165895e-04,\n",
       "         9.13656869e-04,   1.37656818e-03,   1.54238158e-04,\n",
       "         2.64775306e-04,   1.94198208e-04,   1.89457149e-04,\n",
       "         3.92682962e-04,   4.33166709e-04,   8.67425937e-04,\n",
       "         6.24810745e-04,   5.35156482e-04,   9.31399697e-04,\n",
       "         9.00536113e-04,   1.29747940e-03,   1.52243925e-03,\n",
       "         4.05687197e-03,   2.41190757e-04,   4.39135345e-04,\n",
       "         3.44984860e-04,   4.74188429e-04,   4.69738855e-04,\n",
       "         7.98211144e-04,   1.21633812e-03,   4.47896314e-04,\n",
       "         5.80880439e-04,   4.47610862e-04,   6.99197436e-04,\n",
       "         5.59741700e-04,   1.18064844e-03,   1.90158985e-03,\n",
       "         1.54873193e-04,   3.45411520e-04,   2.69769915e-04,\n",
       "         3.47720618e-04,   2.67119043e-04,   5.77422136e-04,\n",
       "         5.10919258e-04,   6.74092747e-04,   5.28104357e-04,\n",
       "         8.13775536e-04,   8.75570645e-04,   1.02547954e-03,\n",
       "         1.48268295e-03,   2.51149726e-03,   5.16552639e-04,\n",
       "         2.83966415e-04,   4.78968499e-04,   4.65032685e-04,\n",
       "         7.86623078e-04,   8.40117224e-04,   1.86734817e-03,\n",
       "         1.07533091e-03,   8.86717748e-04,   1.18280925e-03,\n",
       "         1.72937716e-03,   2.23478587e-03,   3.57441398e-03,\n",
       "         4.76358577e-03,   1.11389549e-03,   1.04939514e-03,\n",
       "         1.52349944e-03,   1.87029595e-03,   2.27924103e-03,\n",
       "         2.79421020e-03,   3.22089681e-03,   4.48567980e-04,\n",
       "         5.62737175e-04,   6.83536231e-04,   6.53757539e-04,\n",
       "         1.08104792e-03,   1.78804692e-03,   3.85224666e-03,\n",
       "         0.00000000e+00,   0.00000000e+00,   0.00000000e+00,\n",
       "         0.00000000e+00,   0.00000000e+00,   1.31590570e-04,\n",
       "         6.03540395e-04,   6.37867880e-04,   1.03117209e-03,\n",
       "         8.30415988e-04,   1.12867211e-03,   1.23105105e-03,\n",
       "         1.88144587e-03,   3.58065307e-03,   4.76131235e-04,\n",
       "         3.51713013e-04,   5.24380337e-04,   4.12506796e-04,\n",
       "         5.02306716e-04,   7.52560193e-04,   9.99475440e-04])"
      ]
     },
     "execution_count": 112,
     "metadata": {},
     "output_type": "execute_result"
    }
   ],
   "source": [
    "from sklearn.ensemble import ExtraTreesClassifier\n",
    "clf = ExtraTreesClassifier()\n",
    "clf = clf.fit(X_train, y_train)\n",
    "clf.feature_importances_ "
   ]
  },
  {
   "cell_type": "code",
   "execution_count": 113,
   "metadata": {},
   "outputs": [
    {
     "name": "stdout",
     "output_type": "stream",
     "text": [
      "(87592, 253)\n",
      "(21898, 253)\n"
     ]
    }
   ],
   "source": [
    "model = SelectFromModel(clf, prefit=True)\n",
    "X_train_new = model.transform(X_train)\n",
    "print(X_train_new.shape)\n",
    "X_test_new = model.transform(X_test)\n",
    "print(X_test_new.shape)"
   ]
  },
  {
   "cell_type": "code",
   "execution_count": 114,
   "metadata": {},
   "outputs": [
    {
     "name": "stdout",
     "output_type": "stream",
     "text": [
      "Feature ranking:\n",
      "1. feature 292 (0.008383)\n",
      "2. feature 4 (0.007662)\n",
      "3. feature 313 (0.007540)\n",
      "4. feature 369 (0.007010)\n",
      "5. feature 20 (0.005736)\n",
      "6. feature 368 (0.005556)\n",
      "7. feature 19 (0.005393)\n",
      "8. feature 52 (0.005331)\n",
      "9. feature 5 (0.005271)\n",
      "10. feature 26 (0.005212)\n"
     ]
    }
   ],
   "source": [
    "std = np.std([clf.feature_importances_ for tree in clf.estimators_],\n",
    "             axis=0)\n",
    "importances = clf.feature_importances_ \n",
    "indices = np.argsort(importances)[::-1]\n",
    "\n",
    "# Print the feature ranking\n",
    "print(\"Feature ranking:\")\n",
    "\n",
    "for f in range(10):\n",
    "    print(\"%d. feature %d (%f)\" % (f + 1, indices[f], importances[indices[f]]))\n"
   ]
  },
  {
   "cell_type": "code",
   "execution_count": 115,
   "metadata": {},
   "outputs": [
    {
     "ename": "NameError",
     "evalue": "name 'logic_regression' is not defined",
     "output_type": "error",
     "traceback": [
      "\u001b[0;31m---------------------------------------------------------------------------\u001b[0m",
      "\u001b[0;31mNameError\u001b[0m                                 Traceback (most recent call last)",
      "\u001b[0;32m<ipython-input-115-1e95572b4b1c>\u001b[0m in \u001b[0;36m<module>\u001b[0;34m()\u001b[0m\n\u001b[1;32m      1\u001b[0m \u001b[0;31m#logica regression with selected features\u001b[0m\u001b[0;34m\u001b[0m\u001b[0;34m\u001b[0m\u001b[0m\n\u001b[1;32m      2\u001b[0m \u001b[0mclass_num\u001b[0m \u001b[0;34m=\u001b[0m \u001b[0;36m2\u001b[0m\u001b[0;34m\u001b[0m\u001b[0m\n\u001b[0;32m----> 3\u001b[0;31m \u001b[0my_score\u001b[0m\u001b[0;34m=\u001b[0m\u001b[0mlogic_regression\u001b[0m\u001b[0;34m(\u001b[0m\u001b[0mX_train_new\u001b[0m\u001b[0;34m,\u001b[0m \u001b[0mX_test_new\u001b[0m\u001b[0;34m,\u001b[0m \u001b[0my_train\u001b[0m\u001b[0;34m,\u001b[0m \u001b[0my_test\u001b[0m\u001b[0;34m,\u001b[0m\u001b[0mclass_num\u001b[0m\u001b[0;34m)\u001b[0m\u001b[0;34m\u001b[0m\u001b[0m\n\u001b[0m",
      "\u001b[0;31mNameError\u001b[0m: name 'logic_regression' is not defined"
     ]
    }
   ],
   "source": [
    "#logica regression with selected features\n",
    "class_num = 2\n",
    "y_score=logic_regression(X_train_new, X_test_new, y_train, y_test,class_num)"
   ]
  },
  {
   "cell_type": "code",
   "execution_count": null,
   "metadata": {
    "collapsed": true
   },
   "outputs": [],
   "source": [
    "y_score=random_forest(X_train_new, X_test_new, y_train, y_test)"
   ]
  },
  {
   "cell_type": "markdown",
   "metadata": {},
   "source": [
    "## feature selection with lasso"
   ]
  },
  {
   "cell_type": "code",
   "execution_count": null,
   "metadata": {
    "collapsed": true
   },
   "outputs": [],
   "source": [
    "#feature selection by Lassocv\n",
    "from sklearn.feature_selection import SelectFromModel\n",
    "from sklearn.linear_model import LassoCV\n",
    "clf = LassoCV(n_alphas=1000).fit(X_train, y_train)\n",
    "model = SelectFromModel(clf,prefit=True)\n",
    "X_train_new = model.transform(X_train)\n",
    "print(X_train_new.shape)\n",
    "X_test_new = model.transform(X_test)\n",
    "print(X_test_new.shape)\n",
    "print(clf.coef_.argsort()[::-1][:20])"
   ]
  },
  {
   "cell_type": "code",
   "execution_count": null,
   "metadata": {
    "collapsed": true
   },
   "outputs": [],
   "source": [
    "np.sort(clf.coef_)[::-1][:20]"
   ]
  },
  {
   "cell_type": "code",
   "execution_count": null,
   "metadata": {
    "collapsed": true
   },
   "outputs": [],
   "source": [
    "#logica regression with selected features\n",
    "class_num = 2\n",
    "y_score=logic_regression(X_train_new, X_test_new, y_train, y_test,class_num)"
   ]
  },
  {
   "cell_type": "code",
   "execution_count": null,
   "metadata": {
    "collapsed": true
   },
   "outputs": [],
   "source": [
    "compute_roc(y_test,y_score,'logistics')"
   ]
  },
  {
   "cell_type": "code",
   "execution_count": null,
   "metadata": {
    "collapsed": true
   },
   "outputs": [],
   "source": [
    "y_score = random_forest(X_train_new, X_test_new, y_train, y_test)"
   ]
  },
  {
   "cell_type": "code",
   "execution_count": null,
   "metadata": {
    "collapsed": true
   },
   "outputs": [],
   "source": [
    "compute_roc(y_test,y_score,'random forest')"
   ]
  },
  {
   "cell_type": "code",
   "execution_count": null,
   "metadata": {
    "collapsed": true
   },
   "outputs": [],
   "source": [
    "y_score = gradiant_boosting(X_train_new, X_test_new, y_train, y_test)\n",
    "compute_roc(y_test,y_score,'gradiant boosting')"
   ]
  },
  {
   "cell_type": "code",
   "execution_count": null,
   "metadata": {
    "collapsed": true
   },
   "outputs": [],
   "source": [
    "for index,i in enumerate(df.columns):\n",
    "    print(index,i)"
   ]
  }
 ],
 "metadata": {
  "kernelspec": {
   "display_name": "Python 3",
   "language": "python",
   "name": "python3"
  },
  "language_info": {
   "codemirror_mode": {
    "name": "ipython",
    "version": 3
   },
   "file_extension": ".py",
   "mimetype": "text/x-python",
   "name": "python",
   "nbconvert_exporter": "python",
   "pygments_lexer": "ipython3",
   "version": "3.6.6"
  }
 },
 "nbformat": 4,
 "nbformat_minor": 2
}
